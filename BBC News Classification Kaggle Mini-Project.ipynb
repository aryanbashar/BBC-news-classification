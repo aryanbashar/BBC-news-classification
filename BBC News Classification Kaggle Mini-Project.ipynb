{
 "cells": [
  {
   "cell_type": "markdown",
   "id": "782a13cd",
   "metadata": {},
   "source": [
    "BBC News Classification\n",
    "=============="
   ]
  },
  {
   "cell_type": "markdown",
   "id": "b1975660",
   "metadata": {},
   "source": [
    "## Introduction:"
   ]
  },
  {
   "cell_type": "markdown",
   "id": "6a4d04be",
   "metadata": {},
   "source": [
    "The goal of this case study is to use different text classification techniques in order to predict a category of a given news article depending on the content written about. We will be using the publicly available database from the BBC which is made up of 2225 articles labeled under 5 categories of business, entertainment, politics, sport, and tech. This will follow the [Kaggle Competition](https://www.kaggle.com/c/learn-ai-bbc/overview) from March 2, 2019 and where the data was downloaded from. The following notebook will go through exploratory data analysis (EDA) procedure, model building and training, and comparison with supervised learning. "
   ]
  },
  {
   "cell_type": "markdown",
   "id": "a5587956",
   "metadata": {},
   "source": [
    "#### Load Required Libraries, Model Building/Training Tools, and Visualization Tools:"
   ]
  },
  {
   "cell_type": "code",
   "execution_count": 18,
   "id": "d992d047",
   "metadata": {},
   "outputs": [],
   "source": [
    "import pandas as pd\n",
    "from sklearn.feature_extraction.text import TfidfVectorizer\n",
    "from sklearn.decomposition import NMF\n",
    "from sklearn.preprocessing import LabelEncoder\n",
    "from sklearn.metrics import accuracy_score, confusion_matrix, silhouette_score\n",
    "from sklearn.metrics import davies_bouldin_score\n",
    "from sklearn.cluster import KMeans\n",
    "from sklearn.model_selection import GridSearchCV\n",
    "from sklearn.metrics import adjusted_rand_score, normalized_mutual_info_score\n",
    "import seaborn as sns\n",
    "import matplotlib.pyplot as plt\n",
    "from sklearn.model_selection import train_test_split\n",
    "from sklearn.linear_model import LogisticRegression\n",
    "from sklearn.metrics import precision_score, recall_score, f1_score\n",
    "import warnings\n",
    "import nltk\n",
    "import re\n",
    "from nltk.corpus import stopwords\n",
    "warnings.filterwarnings('ignore')"
   ]
  },
  {
   "cell_type": "markdown",
   "id": "81b8ec14",
   "metadata": {},
   "source": [
    "#### Read in the Data: "
   ]
  },
  {
   "cell_type": "code",
   "execution_count": 3,
   "id": "b954e217",
   "metadata": {},
   "outputs": [],
   "source": [
    "train_data = pd.read_csv(r\"C:\\Users\\aryan\\Downloads\\learn-ai-bbc\\BBC News Train.csv\")\n",
    "test_data = pd.read_csv(r\"C:\\Users\\aryan\\Downloads\\learn-ai-bbc\\BBC News Test.csv\")"
   ]
  },
  {
   "cell_type": "markdown",
   "id": "a4d39b27",
   "metadata": {},
   "source": [
    "## Step 1 - Exploratory Data Analysis (EDA): "
   ]
  },
  {
   "cell_type": "code",
   "execution_count": 4,
   "id": "e2780bb0",
   "metadata": {},
   "outputs": [
    {
     "data": {
      "text/html": [
       "<div>\n",
       "<style scoped>\n",
       "    .dataframe tbody tr th:only-of-type {\n",
       "        vertical-align: middle;\n",
       "    }\n",
       "\n",
       "    .dataframe tbody tr th {\n",
       "        vertical-align: top;\n",
       "    }\n",
       "\n",
       "    .dataframe thead th {\n",
       "        text-align: right;\n",
       "    }\n",
       "</style>\n",
       "<table border=\"1\" class=\"dataframe\">\n",
       "  <thead>\n",
       "    <tr style=\"text-align: right;\">\n",
       "      <th></th>\n",
       "      <th>ArticleId</th>\n",
       "      <th>Text</th>\n",
       "      <th>Category</th>\n",
       "    </tr>\n",
       "  </thead>\n",
       "  <tbody>\n",
       "    <tr>\n",
       "      <th>0</th>\n",
       "      <td>1833</td>\n",
       "      <td>worldcom ex-boss launches defence lawyers defe...</td>\n",
       "      <td>business</td>\n",
       "    </tr>\n",
       "    <tr>\n",
       "      <th>1</th>\n",
       "      <td>154</td>\n",
       "      <td>german business confidence slides german busin...</td>\n",
       "      <td>business</td>\n",
       "    </tr>\n",
       "    <tr>\n",
       "      <th>2</th>\n",
       "      <td>1101</td>\n",
       "      <td>bbc poll indicates economic gloom citizens in ...</td>\n",
       "      <td>business</td>\n",
       "    </tr>\n",
       "    <tr>\n",
       "      <th>3</th>\n",
       "      <td>1976</td>\n",
       "      <td>lifestyle  governs mobile choice  faster  bett...</td>\n",
       "      <td>tech</td>\n",
       "    </tr>\n",
       "    <tr>\n",
       "      <th>4</th>\n",
       "      <td>917</td>\n",
       "      <td>enron bosses in $168m payout eighteen former e...</td>\n",
       "      <td>business</td>\n",
       "    </tr>\n",
       "  </tbody>\n",
       "</table>\n",
       "</div>"
      ],
      "text/plain": [
       "   ArticleId                                               Text  Category\n",
       "0       1833  worldcom ex-boss launches defence lawyers defe...  business\n",
       "1        154  german business confidence slides german busin...  business\n",
       "2       1101  bbc poll indicates economic gloom citizens in ...  business\n",
       "3       1976  lifestyle  governs mobile choice  faster  bett...      tech\n",
       "4        917  enron bosses in $168m payout eighteen former e...  business"
      ]
     },
     "execution_count": 4,
     "metadata": {},
     "output_type": "execute_result"
    }
   ],
   "source": [
    "# View the first 5 rows of the training data\n",
    "train_data.head()"
   ]
  },
  {
   "cell_type": "markdown",
   "id": "aae4ca4c",
   "metadata": {},
   "source": [
    "We can see that there are 3 columns of ArticleId, Text and Category. Right away we can see that the Text column includes special characters that we would like to remove. "
   ]
  },
  {
   "cell_type": "code",
   "execution_count": 5,
   "id": "bf50c61d",
   "metadata": {},
   "outputs": [
    {
     "data": {
      "text/html": [
       "<div>\n",
       "<style scoped>\n",
       "    .dataframe tbody tr th:only-of-type {\n",
       "        vertical-align: middle;\n",
       "    }\n",
       "\n",
       "    .dataframe tbody tr th {\n",
       "        vertical-align: top;\n",
       "    }\n",
       "\n",
       "    .dataframe thead th {\n",
       "        text-align: right;\n",
       "    }\n",
       "</style>\n",
       "<table border=\"1\" class=\"dataframe\">\n",
       "  <thead>\n",
       "    <tr style=\"text-align: right;\">\n",
       "      <th></th>\n",
       "      <th>ArticleId</th>\n",
       "      <th>Text</th>\n",
       "    </tr>\n",
       "  </thead>\n",
       "  <tbody>\n",
       "    <tr>\n",
       "      <th>0</th>\n",
       "      <td>1018</td>\n",
       "      <td>qpr keeper day heads for preston queens park r...</td>\n",
       "    </tr>\n",
       "    <tr>\n",
       "      <th>1</th>\n",
       "      <td>1319</td>\n",
       "      <td>software watching while you work software that...</td>\n",
       "    </tr>\n",
       "    <tr>\n",
       "      <th>2</th>\n",
       "      <td>1138</td>\n",
       "      <td>d arcy injury adds to ireland woe gordon d arc...</td>\n",
       "    </tr>\n",
       "    <tr>\n",
       "      <th>3</th>\n",
       "      <td>459</td>\n",
       "      <td>india s reliance family feud heats up the ongo...</td>\n",
       "    </tr>\n",
       "    <tr>\n",
       "      <th>4</th>\n",
       "      <td>1020</td>\n",
       "      <td>boro suffer morrison injury blow middlesbrough...</td>\n",
       "    </tr>\n",
       "  </tbody>\n",
       "</table>\n",
       "</div>"
      ],
      "text/plain": [
       "   ArticleId                                               Text\n",
       "0       1018  qpr keeper day heads for preston queens park r...\n",
       "1       1319  software watching while you work software that...\n",
       "2       1138  d arcy injury adds to ireland woe gordon d arc...\n",
       "3        459  india s reliance family feud heats up the ongo...\n",
       "4       1020  boro suffer morrison injury blow middlesbrough..."
      ]
     },
     "execution_count": 5,
     "metadata": {},
     "output_type": "execute_result"
    }
   ],
   "source": [
    "# View the first 5 rows of the testing data\n",
    "test_data.head()"
   ]
  },
  {
   "cell_type": "markdown",
   "id": "8a2d3743",
   "metadata": {},
   "source": [
    "The test data looks normal. Category is not included as it will be predicted after building and training our model. It can then be submitted to Kaggle for a score. "
   ]
  },
  {
   "cell_type": "code",
   "execution_count": 6,
   "id": "f3500508",
   "metadata": {},
   "outputs": [
    {
     "name": "stdout",
     "output_type": "stream",
     "text": [
      "<class 'pandas.core.frame.DataFrame'>\n",
      "RangeIndex: 1490 entries, 0 to 1489\n",
      "Data columns (total 3 columns):\n",
      " #   Column     Non-Null Count  Dtype \n",
      "---  ------     --------------  ----- \n",
      " 0   ArticleId  1490 non-null   int64 \n",
      " 1   Text       1490 non-null   object\n",
      " 2   Category   1490 non-null   object\n",
      "dtypes: int64(1), object(2)\n",
      "memory usage: 35.0+ KB\n",
      "None\n",
      "<class 'pandas.core.frame.DataFrame'>\n",
      "RangeIndex: 735 entries, 0 to 734\n",
      "Data columns (total 2 columns):\n",
      " #   Column     Non-Null Count  Dtype \n",
      "---  ------     --------------  ----- \n",
      " 0   ArticleId  735 non-null    int64 \n",
      " 1   Text       735 non-null    object\n",
      "dtypes: int64(1), object(1)\n",
      "memory usage: 11.6+ KB\n",
      "None\n"
     ]
    }
   ],
   "source": [
    "# General information about both datasets\n",
    "print(train_data.info())\n",
    "print(test_data.info())"
   ]
  },
  {
   "cell_type": "markdown",
   "id": "b685001d",
   "metadata": {},
   "source": [
    "Based on the Kaggle site for the competition, the training set should have 1490 records, which we can see above to be correct."
   ]
  },
  {
   "cell_type": "code",
   "execution_count": 7,
   "id": "43aff276",
   "metadata": {},
   "outputs": [
    {
     "data": {
      "image/png": "[encoded data removed]",
      "text/plain": [
       "<Figure size 576x432 with 1 Axes>"
      ]
     },
     "metadata": {
      "needs_background": "light"
     },
     "output_type": "display_data"
    }
   ],
   "source": [
    "# Bar graph of amount of articles in each category\n",
    "plt.figure(figsize=(8, 6))\n",
    "train_data['Category'].value_counts().plot(kind='bar')\n",
    "plt.title('Distribution of Article Categories')\n",
    "plt.xlabel('Category')\n",
    "plt.ylabel('Count')\n",
    "plt.show()"
   ]
  },
  {
   "cell_type": "markdown",
   "id": "0d2368c2",
   "metadata": {},
   "source": [
    "The categories of sport and business are a bit longer than politics, entertainment, and tech. This can be something to look into  in case we want a more balanced dataset. Let us continue with further visualizations and data cleaning. "
   ]
  },
  {
   "cell_type": "code",
   "execution_count": 8,
   "id": "652c4fef",
   "metadata": {},
   "outputs": [
    {
     "data": {
      "image/png": "[encoded data removed]",
      "text/plain": [
       "<Figure size 576x432 with 1 Axes>"
      ]
     },
     "metadata": {
      "needs_background": "light"
     },
     "output_type": "display_data"
    }
   ],
   "source": [
    "# Calculate the word length of articles\n",
    "train_data['Article_Length'] = train_data['Text'].apply(lambda x: len(x.split()))  \n",
    "\n",
    "# Histogram of word count to frequency\n",
    "plt.figure(figsize=(8, 6))\n",
    "plt.hist(train_data['Article_Length'], bins=20, edgecolor='black')\n",
    "plt.title('Distribution of Article Length')\n",
    "plt.xlabel('Word Count')\n",
    "plt.ylabel('Frequency')\n",
    "plt.show()"
   ]
  },
  {
   "cell_type": "markdown",
   "id": "0948bee5",
   "metadata": {},
   "source": [
    "Most articles are of word length under 1000. "
   ]
  },
  {
   "cell_type": "code",
   "execution_count": 9,
   "id": "740af0b6",
   "metadata": {},
   "outputs": [
    {
     "name": "stdout",
     "output_type": "stream",
     "text": [
      "ArticleId         0\n",
      "Text              0\n",
      "Category          0\n",
      "Article_Length    0\n",
      "dtype: int64\n"
     ]
    }
   ],
   "source": [
    "# Check for missing values\n",
    "print(train_data.isnull().sum())\n",
    "\n",
    "# Drop rows with missing values\n",
    "train_data.dropna(subset=['Text'], inplace=True)"
   ]
  },
  {
   "cell_type": "markdown",
   "id": "354edaa8",
   "metadata": {},
   "source": [
    "The missing values have been checked. "
   ]
  },
  {
   "cell_type": "code",
   "execution_count": 10,
   "id": "162e0aa7",
   "metadata": {},
   "outputs": [
    {
     "data": {
      "text/html": [
       "<div>\n",
       "<style scoped>\n",
       "    .dataframe tbody tr th:only-of-type {\n",
       "        vertical-align: middle;\n",
       "    }\n",
       "\n",
       "    .dataframe tbody tr th {\n",
       "        vertical-align: top;\n",
       "    }\n",
       "\n",
       "    .dataframe thead th {\n",
       "        text-align: right;\n",
       "    }\n",
       "</style>\n",
       "<table border=\"1\" class=\"dataframe\">\n",
       "  <thead>\n",
       "    <tr style=\"text-align: right;\">\n",
       "      <th></th>\n",
       "      <th>ArticleId</th>\n",
       "      <th>Text</th>\n",
       "      <th>Category</th>\n",
       "      <th>Article_Length</th>\n",
       "    </tr>\n",
       "  </thead>\n",
       "  <tbody>\n",
       "    <tr>\n",
       "      <th>0</th>\n",
       "      <td>1833</td>\n",
       "      <td>worldcom ex-boss launches defence lawyers defe...</td>\n",
       "      <td>business</td>\n",
       "      <td>301</td>\n",
       "    </tr>\n",
       "    <tr>\n",
       "      <th>1</th>\n",
       "      <td>154</td>\n",
       "      <td>german business confidence slides german busin...</td>\n",
       "      <td>business</td>\n",
       "      <td>325</td>\n",
       "    </tr>\n",
       "    <tr>\n",
       "      <th>2</th>\n",
       "      <td>1101</td>\n",
       "      <td>bbc poll indicates economic gloom citizens in ...</td>\n",
       "      <td>business</td>\n",
       "      <td>514</td>\n",
       "    </tr>\n",
       "    <tr>\n",
       "      <th>3</th>\n",
       "      <td>1976</td>\n",
       "      <td>lifestyle  governs mobile choice  faster  bett...</td>\n",
       "      <td>tech</td>\n",
       "      <td>634</td>\n",
       "    </tr>\n",
       "    <tr>\n",
       "      <th>4</th>\n",
       "      <td>917</td>\n",
       "      <td>enron bosses in $168m payout eighteen former e...</td>\n",
       "      <td>business</td>\n",
       "      <td>355</td>\n",
       "    </tr>\n",
       "  </tbody>\n",
       "</table>\n",
       "</div>"
      ],
      "text/plain": [
       "   ArticleId                                               Text  Category  \\\n",
       "0       1833  worldcom ex-boss launches defence lawyers defe...  business   \n",
       "1        154  german business confidence slides german busin...  business   \n",
       "2       1101  bbc poll indicates economic gloom citizens in ...  business   \n",
       "3       1976  lifestyle  governs mobile choice  faster  bett...      tech   \n",
       "4        917  enron bosses in $168m payout eighteen former e...  business   \n",
       "\n",
       "   Article_Length  \n",
       "0             301  \n",
       "1             325  \n",
       "2             514  \n",
       "3             634  \n",
       "4             355  "
      ]
     },
     "execution_count": 10,
     "metadata": {},
     "output_type": "execute_result"
    }
   ],
   "source": [
    "# Display the first few rows of the train data\n",
    "train_data.head()"
   ]
  },
  {
   "cell_type": "code",
   "execution_count": 11,
   "id": "6124fae7",
   "metadata": {},
   "outputs": [
    {
     "name": "stdout",
     "output_type": "stream",
     "text": [
      "Duplicates in Training Data 50\n"
     ]
    }
   ],
   "source": [
    "# Check for duplicates in the training data\n",
    "print('Duplicates in Training Data', train_data.duplicated(subset=['Text']).sum())"
   ]
  },
  {
   "cell_type": "code",
   "execution_count": 12,
   "id": "3d317d7f",
   "metadata": {},
   "outputs": [
    {
     "name": "stdout",
     "output_type": "stream",
     "text": [
      "Duplicates removed. New shape of training data: (1440, 4)\n"
     ]
    }
   ],
   "source": [
    "# Remove duplicates from the training data \n",
    "train_data.drop_duplicates(subset=['Text'], inplace=True)\n",
    "\n",
    "# Verify that duplicates have been removed\n",
    "print('Duplicates removed. New shape of training data:', train_data.shape)"
   ]
  },
  {
   "cell_type": "markdown",
   "id": "a565755b",
   "metadata": {},
   "source": [
    "Duplicates in the data were checked and removed. "
   ]
  },
  {
   "cell_type": "markdown",
   "id": "7fae8202",
   "metadata": {},
   "source": [
    "### Text Preprocessing:"
   ]
  },
  {
   "cell_type": "markdown",
   "id": "2cbaeb03",
   "metadata": {},
   "source": [
    "Text preprocessing is important to do prior to applying machine learning algorithms. It allows us to reduce noise like special characters, symbols, and stop words. "
   ]
  },
  {
   "cell_type": "code",
   "execution_count": 13,
   "id": "016c43e3",
   "metadata": {},
   "outputs": [],
   "source": [
    "# Remove stop words\n",
    "\n",
    "stop_words = set(stopwords.words('english'))\n",
    "\n",
    "def remove_stop_words(text):\n",
    "    words = text.split()\n",
    "    filtered_words = [word for word in words if word.lower() not in stop_words]\n",
    "    return ' '.join(filtered_words)\n",
    "\n",
    "train_data['Text'] = train_data['Text'].apply(remove_stop_words)\n",
    "\n",
    "# Remove leading and trailing spaces from the 'Text' column\n",
    "train_data['Text'] = train_data['Text'].str.strip()\n",
    "\n",
    "# Remove extra spaces between words in the 'Text' column\n",
    "def remove_extra_spaces(text):\n",
    "    return ' '.join(text.split())\n",
    "\n",
    "train_data['Text'] = train_data['Text'].apply(remove_extra_spaces)"
   ]
  },
  {
   "cell_type": "markdown",
   "id": "1e487467",
   "metadata": {},
   "source": [
    "Stop words, leading/trailing spaces, and extra spaces were removed."
   ]
  },
  {
   "cell_type": "code",
   "execution_count": 14,
   "id": "89b4517f",
   "metadata": {},
   "outputs": [],
   "source": [
    "# Remove Special Characters\n",
    "\n",
    "def remove_special_characters(text):\n",
    "    return re.sub(r'[^a-zA-Z0-9\\s]', '', text)\n",
    "\n",
    "train_data['Text'] = train_data['Text'].apply(remove_special_characters)"
   ]
  },
  {
   "cell_type": "markdown",
   "id": "216f55b9",
   "metadata": {},
   "source": [
    "Special characters were removed. "
   ]
  },
  {
   "cell_type": "code",
   "execution_count": 15,
   "id": "4088d328",
   "metadata": {},
   "outputs": [],
   "source": [
    "# Remove hyphens from the text\n",
    "\n",
    "def remove_hyphens(text):\n",
    "    return text.replace('-', '')\n",
    "\n",
    "train_data['Text'] = train_data['Text'].apply(remove_hyphens)"
   ]
  },
  {
   "cell_type": "markdown",
   "id": "65259ff9",
   "metadata": {},
   "source": [
    "Hyphens were removed. Let us view our data once more to see how it looks:"
   ]
  },
  {
   "cell_type": "code",
   "execution_count": 16,
   "id": "e3832cf9",
   "metadata": {},
   "outputs": [
    {
     "data": {
      "text/html": [
       "<div>\n",
       "<style scoped>\n",
       "    .dataframe tbody tr th:only-of-type {\n",
       "        vertical-align: middle;\n",
       "    }\n",
       "\n",
       "    .dataframe tbody tr th {\n",
       "        vertical-align: top;\n",
       "    }\n",
       "\n",
       "    .dataframe thead th {\n",
       "        text-align: right;\n",
       "    }\n",
       "</style>\n",
       "<table border=\"1\" class=\"dataframe\">\n",
       "  <thead>\n",
       "    <tr style=\"text-align: right;\">\n",
       "      <th></th>\n",
       "      <th>ArticleId</th>\n",
       "      <th>Text</th>\n",
       "      <th>Category</th>\n",
       "      <th>Article_Length</th>\n",
       "    </tr>\n",
       "  </thead>\n",
       "  <tbody>\n",
       "    <tr>\n",
       "      <th>0</th>\n",
       "      <td>1833</td>\n",
       "      <td>worldcom exboss launches defence lawyers defen...</td>\n",
       "      <td>business</td>\n",
       "      <td>301</td>\n",
       "    </tr>\n",
       "    <tr>\n",
       "      <th>1</th>\n",
       "      <td>154</td>\n",
       "      <td>german business confidence slides german busin...</td>\n",
       "      <td>business</td>\n",
       "      <td>325</td>\n",
       "    </tr>\n",
       "    <tr>\n",
       "      <th>2</th>\n",
       "      <td>1101</td>\n",
       "      <td>bbc poll indicates economic gloom citizens maj...</td>\n",
       "      <td>business</td>\n",
       "      <td>514</td>\n",
       "    </tr>\n",
       "    <tr>\n",
       "      <th>3</th>\n",
       "      <td>1976</td>\n",
       "      <td>lifestyle governs mobile choice faster better ...</td>\n",
       "      <td>tech</td>\n",
       "      <td>634</td>\n",
       "    </tr>\n",
       "    <tr>\n",
       "      <th>4</th>\n",
       "      <td>917</td>\n",
       "      <td>enron bosses 168m payout eighteen former enron...</td>\n",
       "      <td>business</td>\n",
       "      <td>355</td>\n",
       "    </tr>\n",
       "  </tbody>\n",
       "</table>\n",
       "</div>"
      ],
      "text/plain": [
       "   ArticleId                                               Text  Category  \\\n",
       "0       1833  worldcom exboss launches defence lawyers defen...  business   \n",
       "1        154  german business confidence slides german busin...  business   \n",
       "2       1101  bbc poll indicates economic gloom citizens maj...  business   \n",
       "3       1976  lifestyle governs mobile choice faster better ...      tech   \n",
       "4        917  enron bosses 168m payout eighteen former enron...  business   \n",
       "\n",
       "   Article_Length  \n",
       "0             301  \n",
       "1             325  \n",
       "2             514  \n",
       "3             634  \n",
       "4             355  "
      ]
     },
     "execution_count": 16,
     "metadata": {},
     "output_type": "execute_result"
    }
   ],
   "source": [
    "train_data.head()"
   ]
  },
  {
   "cell_type": "markdown",
   "id": "653cd968",
   "metadata": {},
   "source": [
    "### Word Embedding: "
   ]
  },
  {
   "cell_type": "markdown",
   "id": "4e3fb5e5",
   "metadata": {},
   "source": [
    "We will be going through some important techniques for natural language processing and information retrieval. \n",
    "\n",
    "##### TF-IDF Vectorization:\n",
    "\n",
    "Term Frequency-Inverse Document Frequency (TF-IDF) is used to convert raw text data (like in our training or testing data) into a representation through numbers that can be handled by machine learning algorithms. It can pinpoint the terms inside the text by importance, which it ranks through term frequency (how often a word is brought up) and inverse document frequency (rarer words provide more information than common words). The TF-IDF matrix gives a weighted score for each word in a text and each article would be represented as a vector. This is an important step prior to model building and training. \n",
    "\n",
    "##### Truncated Singular Value Decomposition:\n",
    "Truncated Singular Value Decomposition (SVD) is significant in reducing the complexity or dimensionality of the data, while keeping the information that is important and reducing that chance of overfitting. It works well on the matrix that comes from TF-IDF, which had a maximum number of features at 5000. Truncated SVD will further limit that to 10 components, which are representations of the previous features, and each component could find patterns within the words. This process can also reduce noise and potentially improve model performance. "
   ]
  },
  {
   "cell_type": "code",
   "execution_count": 30,
   "id": "529d5853",
   "metadata": {},
   "outputs": [],
   "source": [
    "# TF-IDF Vectorization\n",
    "tfidf_vectorizer = TfidfVectorizer(stop_words='english', max_features=5000)\n",
    "tfidf_train = tfidf_vectorizer.fit_transform(train_data['Text'])\n",
    "tfidf_test = tfidf_vectorizer.transform(test_data['Text'])\n",
    "\n",
    "# Truncated SVD for matrix factorization\n",
    "n_components = 10  # Number of latent topics\n",
    "svd = TruncatedSVD(n_components=n_components, random_state=42)\n",
    "svd_train = svd.fit_transform(tfidf_train)\n",
    "svd_test = svd.transform(tfidf_test)"
   ]
  },
  {
   "cell_type": "markdown",
   "id": "f6573ef1",
   "metadata": {},
   "source": [
    "## Step 2 - Model Building, Training and Label Predicting:\n",
    "\n",
    "We will be using K-means clustering, which is easy to implement, efficient to use, and generates clusters that are easy to interpret. It works well on real world datasets like this BBC article data. "
   ]
  },
  {
   "cell_type": "code",
   "execution_count": 31,
   "id": "e8d8a2dc",
   "metadata": {},
   "outputs": [
    {
     "data": {
      "image/png": "[encoded data removed]",
      "text/plain": [
       "<Figure size 432x288 with 2 Axes>"
      ]
     },
     "metadata": {
      "needs_background": "light"
     },
     "output_type": "display_data"
    }
   ],
   "source": [
    "# We will apply K-means clustering \n",
    "kmeans = KMeans(n_clusters=5, random_state=42) \n",
    "kmeans.fit(svd_train)\n",
    "\n",
    "# Assign cluster labels\n",
    "cluster_labels = kmeans.labels_\n",
    "\n",
    "# Visualize the clusters\n",
    "plt.scatter(svd_train[:, 0], svd_train[:, 1], c=cluster_labels, cmap='viridis')\n",
    "plt.xlabel('SVD Component 1')\n",
    "plt.ylabel('SVD Component 2')\n",
    "plt.title('Clusters in Reduced Dimensional Space')\n",
    "plt.colorbar(label='Cluster')\n",
    "plt.show()"
   ]
  },
  {
   "cell_type": "code",
   "execution_count": 32,
   "id": "56997bfb",
   "metadata": {},
   "outputs": [
    {
     "name": "stdout",
     "output_type": "stream",
     "text": [
      "Silhouette Score: 0.24\n"
     ]
    }
   ],
   "source": [
    "# Calculate silhouette score\n",
    "silhouette_avg = silhouette_score(svd_train, kmeans.labels_)\n",
    "print(f\"Silhouette Score: {silhouette_avg:.2f}\")"
   ]
  },
  {
   "cell_type": "code",
   "execution_count": 40,
   "id": "f5202e2d",
   "metadata": {},
   "outputs": [
    {
     "name": "stdout",
     "output_type": "stream",
     "text": [
      "Number of clusters: 2, Silhouette Score: 0.16074058304514477\n",
      "Number of clusters: 3, Silhouette Score: 0.21392948584832513\n",
      "Number of clusters: 4, Silhouette Score: 0.24916412570521504\n",
      "Number of clusters: 5, Silhouette Score: 0.2398372595961637\n",
      "Number of clusters: 6, Silhouette Score: 0.2490875741068871\n",
      "Number of clusters: 7, Silhouette Score: 0.28373009916806907\n",
      "Number of clusters: 8, Silhouette Score: 0.31789008082197334\n",
      "Number of clusters: 9, Silhouette Score: 0.3121761959726549\n",
      "Best Hyperparameters: {'n_clusters': 8}\n",
      "Best Silhouette Score: 0.31789008082197334\n"
     ]
    }
   ],
   "source": [
    "# Define hyperparameter grid\n",
    "param_grid = {'n_clusters': [2, 3, 4, 5, 6, 7, 8, 9]} \n",
    "\n",
    "# Perform grid search to find the best number of clusters\n",
    "best_score = -1\n",
    "best_params = None\n",
    "for n_clusters in param_grid['n_clusters']:\n",
    "    kmeans = KMeans(n_clusters=n_clusters, random_state=42)\n",
    "    kmeans.fit(svd_train)\n",
    "    labels = kmeans.labels_\n",
    "    silhouette_avg = silhouette_score(svd_train, labels)\n",
    "    print(f\"Number of clusters: {n_clusters}, Silhouette Score: {silhouette_avg}\")\n",
    "    if silhouette_avg > best_score:\n",
    "        best_score = silhouette_avg\n",
    "        best_params = {'n_clusters': n_clusters}\n",
    "\n",
    "# Print results\n",
    "print(\"Best Hyperparameters:\", best_params)\n",
    "print(\"Best Silhouette Score:\", best_score)\n"
   ]
  },
  {
   "cell_type": "code",
   "execution_count": 41,
   "id": "58760108",
   "metadata": {},
   "outputs": [
    {
     "data": {
      "image/png": "[encoded data removed]",
      "text/plain": [
       "<Figure size 432x288 with 2 Axes>"
      ]
     },
     "metadata": {
      "needs_background": "light"
     },
     "output_type": "display_data"
    }
   ],
   "source": [
    "# Visualize the clusters\n",
    "plt.scatter(svd_train[:, 0], svd_train[:, 1], c=kmeans.labels_, cmap='viridis')\n",
    "plt.scatter(kmeans.cluster_centers_[:, 0], kmeans.cluster_centers_[:, 1], marker='x', s=200, c='red', label='Centroids')\n",
    "plt.xlabel('SVD Component 1')\n",
    "plt.ylabel('SVD Component 2')\n",
    "plt.title('Clusters in Reduced Dimensional Space')\n",
    "plt.colorbar(label='Cluster')\n",
    "plt.legend()\n",
    "plt.show()"
   ]
  },
  {
   "cell_type": "code",
   "execution_count": 42,
   "id": "bd69c8dd",
   "metadata": {},
   "outputs": [
    {
     "name": "stdout",
     "output_type": "stream",
     "text": [
      "Davies–Bouldin Index: 1.11534101690593\n"
     ]
    },
    {
     "data": {
      "image/png": "[encoded data removed]",
      "text/plain": [
       "<Figure size 432x288 with 1 Axes>"
      ]
     },
     "metadata": {
      "needs_background": "light"
     },
     "output_type": "display_data"
    }
   ],
   "source": [
    "# Compute the Davies–Bouldin Index\n",
    "db_index = davies_bouldin_score(svd_train, kmeans.labels_)\n",
    "print(\"Davies–Bouldin Index:\", db_index)\n",
    "\n",
    "# Elbow Method for determining the optimal number of clusters\n",
    "inertia_values = []\n",
    "k_values = range(2, 11)  # Test different values of k\n",
    "for k in k_values:\n",
    "    kmeans = KMeans(n_clusters=k, random_state=42)\n",
    "    kmeans.fit(svd_train)\n",
    "    inertia_values.append(kmeans.inertia_)\n",
    "\n",
    "# Plot the inertia values\n",
    "plt.plot(k_values, inertia_values, marker='o')\n",
    "plt.xlabel('Number of Clusters (k)')\n",
    "plt.ylabel('Inertia')\n",
    "plt.title('Elbow Method')\n",
    "plt.show()"
   ]
  },
  {
   "cell_type": "markdown",
   "id": "43d5f341",
   "metadata": {},
   "source": [
    "### Discussion:\n",
    "\n",
    "It looks that 8 clusters for the model have the highest silhouette score. This is scored from -1 and 1, where -1 have clusters assigned incorrectly, 0 is a distance between each other that is not significant, and closer to 1 is more correctly assigned. The score of approximately 0.318 shows that clusters are better separated and have high cohesion. The hyperparameter tuning improved this over the original model, which was 5 clusters and a silhouette score of 0.240. With the Elbow Method graph, we can see that inertia slows down in decreasing around 8, which would make sense based on our score. The Davies-Bouldin Index (DBI), which evaluates the average similarity measure of each cluster to the one that is comparable to it. The score of approximately 1.115 shows a reasonable clustering quality.  \n"
   ]
  },
  {
   "cell_type": "markdown",
   "id": "0bcdca49",
   "metadata": {},
   "source": [
    "##  Building and Training Another Model:\n",
    "\n",
    "We train a Logistic Regression model, which is a common choice for classification purposes. It is an efficient model that works well with components obtained from Truncated SVD and can handle overfitting if needed, through regularization systems. \n",
    "The labels for both the training data and test data are then predicted using the trained model. We can then move to metrics that show how our model is performing."
   ]
  },
  {
   "cell_type": "code",
   "execution_count": null,
   "id": "8e4bc9e0",
   "metadata": {},
   "outputs": [],
   "source": [
    "# Train a Logistic Regression model\n",
    "logistic_regression_model = LogisticRegression(max_iter=1000)\n",
    "logistic_regression_model.fit(svd_train, train_data['Category'])\n",
    "\n",
    "# Predict labels for train data\n",
    "train_labels_pred = logistic_regression_model.predict(svd_train)\n",
    "\n",
    "# Predict labels for test data\n",
    "test_labels_pred = logistic_regression_model.predict(svd_test)"
   ]
  },
  {
   "cell_type": "markdown",
   "id": "7fdb029f",
   "metadata": {},
   "source": [
    "### Model Performance Evaluation:\n",
    "\n",
    "We generate the accuracy score below, which calculates the proportion of correctly predicted categories in the training dataset. The confusion matrix shows a table that a summary of the actual versus predicted labels, which displays the amount of positive, false positives, true negatives, and false negatives. We can use these to see how our Logistic Regression model performed. "
   ]
  },
  {
   "cell_type": "code",
   "execution_count": 23,
   "id": "25ccf68b",
   "metadata": {},
   "outputs": [
    {
     "name": "stdout",
     "output_type": "stream",
     "text": [
      "Train Accuracy: 0.9458333333333333\n",
      "Train Confusion Matrix:\n",
      "[[324   1   3   1   6]\n",
      " [  4 250   3   4   2]\n",
      " [ 19   0 239   6   2]\n",
      " [  1   1   0 340   0]\n",
      " [  9   4   5   7 209]]\n"
     ]
    }
   ],
   "source": [
    "# True labels for train data\n",
    "true_labels_train = train_data['Category']\n",
    "\n",
    "# Measure accuracy for the train data\n",
    "train_accuracy = accuracy_score(true_labels_train, train_labels_pred)\n",
    "print(\"Train Accuracy:\", train_accuracy)\n",
    "\n",
    "# Confusion matrix for the train data\n",
    "train_confusion_matrix = confusion_matrix(true_labels_train, train_labels_pred)\n",
    "print(\"Train Confusion Matrix:\")\n",
    "print(train_confusion_matrix)\n"
   ]
  },
  {
   "cell_type": "markdown",
   "id": "35664cf4",
   "metadata": {},
   "source": [
    "We plot the confusion matrix as a heatmap visualization below. "
   ]
  },
  {
   "cell_type": "code",
   "execution_count": 29,
   "id": "13753b92",
   "metadata": {},
   "outputs": [
    {
     "data": {
      "image/png": "[encoded data removed]",
      "text/plain": [
       "<Figure size 720x576 with 2 Axes>"
      ]
     },
     "metadata": {
      "needs_background": "light"
     },
     "output_type": "display_data"
    }
   ],
   "source": [
    "# Heatmap for the train data confusion matrix\n",
    "plt.figure(figsize=(10, 8))\n",
    "sns.heatmap(train_confusion_matrix, annot=True, fmt='d', cmap='Blues')\n",
    "plt.title('Confusion Matrix for Train Data')\n",
    "plt.xlabel('Predicted Label')\n",
    "plt.ylabel('True Label')\n",
    "plt.show()"
   ]
  },
  {
   "cell_type": "markdown",
   "id": "9ca72c29",
   "metadata": {},
   "source": [
    "Create a save for the Kaggle submission. "
   ]
  },
  {
   "cell_type": "code",
   "execution_count": 24,
   "id": "34067e81",
   "metadata": {},
   "outputs": [],
   "source": [
    "# Create a DataFrame for submission\n",
    "submission_df = pd.DataFrame({\n",
    "    'ArticleId': test_data['ArticleId'],\n",
    "    'Category': test_labels_pred\n",
    "})\n",
    "\n",
    "# Save the DataFrame to a CSV file\n",
    "submission_df.to_csv('submission.csv', index=False)"
   ]
  },
  {
   "cell_type": "markdown",
   "id": "84f7bc65",
   "metadata": {},
   "source": [
    "### Hypertuning The Model:\n",
    "\n",
    "We have seen the base accuracy of our model above, which achieved an accuracy of about 0.946. Let us see how changing the number of components in our Truncated SVD step can change our model’s performance. We iterate over the multiple options and train a model on each, then receive the accuracy output. "
   ]
  },
  {
   "cell_type": "code",
   "execution_count": 51,
   "id": "64bbd4da",
   "metadata": {},
   "outputs": [
    {
     "name": "stdout",
     "output_type": "stream",
     "text": [
      "  n_components Train Accuracy\n",
      "0          5.0       0.920833\n",
      "1         10.0       0.945833\n",
      "2         15.0       0.952778\n",
      "3         20.0       0.954861\n"
     ]
    }
   ],
   "source": [
    "# Define hyperparameters to tune\n",
    "n_components_values = [5, 10, 15, 20]  # Test different component values\n",
    "\n",
    "# Record results in a DataFrame\n",
    "results_df = pd.DataFrame(columns=['n_components', 'Train Accuracy'])\n",
    "\n",
    "# Iterate over hyperparameters\n",
    "for n_components in n_components_values:\n",
    "    # Truncated SVD for matrix factorization\n",
    "    svd = TruncatedSVD(n_components=n_components, random_state=42)\n",
    "    svd_train = svd.fit_transform(tfidf_train)\n",
    "    \n",
    "    # Train a logistic regression model\n",
    "    logistic_regression_model = LogisticRegression(max_iter=1000)\n",
    "    logistic_regression_model.fit(svd_train, train_data['Category'])\n",
    "    \n",
    "    # Predict labels for the train data\n",
    "    train_labels_pred = logistic_regression_model.predict(svd_train)\n",
    "    \n",
    "    # Calculate accuracy for the train data\n",
    "    train_accuracy = accuracy_score(train_data['Category'], train_labels_pred)\n",
    "    \n",
    "    # Record the results\n",
    "    results_df = results_df.append({'n_components': n_components, 'Train Accuracy': train_accuracy}, ignore_index=True)\n",
    "\n",
    "# Display the results\n",
    "print(results_df)"
   ]
  },
  {
   "cell_type": "markdown",
   "id": "471a3a7b",
   "metadata": {},
   "source": [
    "We see that train accuracy is increasing with more components. Let visualize it below for easier viewing."
   ]
  },
  {
   "cell_type": "code",
   "execution_count": 27,
   "id": "4b8ddc4c",
   "metadata": {},
   "outputs": [
    {
     "data": {
      "image/png": "[encoded data removed]",
      "text/plain": [
       "<Figure size 720x432 with 1 Axes>"
      ]
     },
     "metadata": {
      "needs_background": "light"
     },
     "output_type": "display_data"
    }
   ],
   "source": [
    "# Convert 'n_components' to integers\n",
    "results_df['n_components'] = results_df['n_components'].astype(int)\n",
    "\n",
    "# Line plot of components to train accuracy\n",
    "plt.figure(figsize=(10, 6))\n",
    "plt.plot(results_df['n_components'], results_df['Train Accuracy'], marker='o', linestyle='-')\n",
    "plt.title('Effect of n_components on Train Accuracy')\n",
    "plt.xlabel('n_components')\n",
    "plt.ylabel('Train Accuracy')\n",
    "plt.xticks(results_df['n_components'])\n",
    "plt.grid(True)\n",
    "plt.show()"
   ]
  },
  {
   "cell_type": "markdown",
   "id": "d1a7ae20",
   "metadata": {},
   "source": [
    "#### Components Discussion:\n",
    "\n",
    "The increase of accuracy with more components in Truncated SVD could be to several reasons. There would be more information preserved from the TF-IDF matrix which could provide better classification functioning. Less components can also lead to underfitting and some complex relationships in the data could be missed by the model. We do need to be careful, as adding more components could do the opposite effect as well, and lead to overfitting. The model would perform well on the training data, but then would struggle with unseen data, which is more important. "
   ]
  },
  {
   "cell_type": "markdown",
   "id": "7ca64738",
   "metadata": {},
   "source": [
    "## Step 3 - Comparison with Supervised Training:"
   ]
  },
  {
   "cell_type": "code",
   "execution_count": 43,
   "id": "a4d110ee",
   "metadata": {},
   "outputs": [
    {
     "name": "stdout",
     "output_type": "stream",
     "text": [
      "Supervised Learning - Train Accuracy: 0.9972222222222222\n"
     ]
    }
   ],
   "source": [
    "# Train a logistic regression model\n",
    "logistic_regression_model_supervised = LogisticRegression(max_iter=1000)\n",
    "logistic_regression_model_supervised.fit(tfidf_train, train_data['Category'])\n",
    "\n",
    "# Predict labels for the train and test data\n",
    "train_labels_pred_supervised = logistic_regression_model_supervised.predict(tfidf_train)\n",
    "\n",
    "# Measure accuracy for the train and test data\n",
    "train_accuracy_supervised = accuracy_score(train_data['Category'], train_labels_pred_supervised)\n",
    "\n",
    "# Print the results\n",
    "print(\"Supervised Learning - Train Accuracy:\", train_accuracy_supervised)"
   ]
  },
  {
   "cell_type": "code",
   "execution_count": 44,
   "id": "1663dae8",
   "metadata": {},
   "outputs": [
    {
     "name": "stdout",
     "output_type": "stream",
     "text": [
      "Adjusted Rand Index (ARI): 0.5342936754497585\n",
      "Normalized Mutual Information (NMI): 0.6815984481560825\n"
     ]
    }
   ],
   "source": [
    "# Compute Adjusted Rand Index (ARI)\n",
    "ari = adjusted_rand_score(train_data['Category'], kmeans.labels_)\n",
    "print(\"Adjusted Rand Index (ARI):\", ari)\n",
    "\n",
    "# Compute Normalized Mutual Information (NMI)\n",
    "nmi = normalized_mutual_info_score(train_data['Category'], kmeans.labels_)\n",
    "print(\"Normalized Mutual Information (NMI):\", nmi)"
   ]
  },
  {
   "cell_type": "code",
   "execution_count": 50,
   "id": "faf562d5",
   "metadata": {},
   "outputs": [
    {
     "data": {
      "image/png": "[encoded data removed]",
      "text/plain": [
       "<Figure size 576x432 with 1 Axes>"
      ]
     },
     "metadata": {
      "needs_background": "light"
     },
     "output_type": "display_data"
    }
   ],
   "source": [
    "# Accuracy score of supervised learning\n",
    "accuracy_score_supervised = 0.9972222222222222\n",
    "\n",
    "# ARI, NMI, and accuracy scores\n",
    "scores = {'ARI (Unsupervised)': 0.5342936754497585, 'NMI (Unsupervised)': 0.6815984481560825, 'Accuracy (Supervised)': accuracy_score_supervised}\n",
    "\n",
    "# Plotting\n",
    "plt.figure(figsize=(8, 6))\n",
    "plt.bar(scores.keys(), scores.values(), color=['blue', 'green', 'orange'])\n",
    "plt.xlabel('Metrics')\n",
    "plt.ylabel('Score')\n",
    "plt.title('Comparison of ARI, NMI, and Accuracy Scores')\n",
    "plt.ylim(0, 1)  # Set y-axis limit to range from 0 to 1\n",
    "plt.show()"
   ]
  },
  {
   "cell_type": "markdown",
   "id": "c4dc572c",
   "metadata": {},
   "source": [
    "### Discussion: \n",
    "\n",
    "We compared the unsupervised learning model with a supervised logistic regression model. Since the supervised can be measured with an accuracy score, which shows how well the model predicts the labels of the training data. A score of 0.997 is quite high and suggests that the model is correctly classifying texts into categories. \n",
    "\n",
    "We can compare this to the k-means clustering by using metrics that compare the clustering results with ground truth labels. Adjusted Rand Index (ARI) measures how similar clusters are between each other and ranges from 0, which is random clustering, and 1 which is the best score. There is also Normalized Mutual Information (NMI) which amounts the mutual information involving two clusters. A score of 0.534 for ARI and a score of 0.682 for MRI both relatively that the K-means clustering portrays some of the structure of the data but could be improved. The accuracy score of the logistic regression model is higher than both metrics, even though it is difficult to directly compare them. \n",
    "\n",
    "The supervised learning model could have used the access to labeled data during training to provide a better understanding of the data. K-means clustering can also find difficulty in complex data patterns that a supervised model would be able to handle. Even so, the silhouette score, ARI, and NMI, do not test how well the model can label articles into categories based on their text. It would be difficult to compare directly. "
   ]
  },
  {
   "cell_type": "markdown",
   "id": "ae28c2ee",
   "metadata": {},
   "source": [
    "#### Changing Train Data Size:"
   ]
  },
  {
   "cell_type": "code",
   "execution_count": 34,
   "id": "460fc341",
   "metadata": {},
   "outputs": [
    {
     "data": {
      "image/png": "[encoded data removed]",
      "text/plain": [
       "<Figure size 432x288 with 1 Axes>"
      ]
     },
     "metadata": {
      "needs_background": "light"
     },
     "output_type": "display_data"
    }
   ],
   "source": [
    "# Define the percentage of labeled data to include\n",
    "percentages = [0.1, 0.2, 0.5]\n",
    "\n",
    "# Initialize lists to store results\n",
    "train_accuracies = []\n",
    "\n",
    "for percentage in percentages:\n",
    "    # Split the original training data into labeled and unlabeled subsets\n",
    "    labeled_data, _ = train_test_split(train_data, train_size=percentage, random_state=42, stratify=train_data['Category'])\n",
    "\n",
    "    # Preprocess the labeled data \n",
    "    labeled_data['Text'] = labeled_data['Text'].apply(remove_stop_words)\n",
    "    labeled_data['Text'] = labeled_data['Text'].apply(remove_special_characters)\n",
    "    labeled_data['Text'] = labeled_data['Text'].apply(remove_extra_spaces)\n",
    "    labeled_data['Text'] = labeled_data['Text'].apply(remove_hyphens)\n",
    "\n",
    "    # Transform the labeled text data using a TF-IDF vectorizer\n",
    "    tfidf_labeled = tfidf_vectorizer.transform(labeled_data['Text'])\n",
    "\n",
    "    # Train on the labeled data\n",
    "    logistic_regression_model = LogisticRegression(max_iter=1000)\n",
    "    logistic_regression_model.fit(tfidf_labeled, labeled_data['Category'])\n",
    "\n",
    "    # Make predictions on the entire training data\n",
    "    train_labels_pred = logistic_regression_model.predict(tfidf_train)\n",
    "\n",
    "    # Calculate accuracy for the train data\n",
    "    train_accuracy = accuracy_score(train_data['Category'], train_labels_pred)\n",
    "    train_accuracies.append(train_accuracy)\n",
    "\n",
    "# Visualize the percentage of labeled data to train accuracy \n",
    "plt.plot(percentages, train_accuracies, marker='o')\n",
    "plt.title('Effect of Labeled Data Size on Train Accuracy')\n",
    "plt.xlabel('Percentage of Labeled Data')\n",
    "plt.ylabel('Train Accuracy')\n",
    "plt.xticks(percentages)\n",
    "plt.grid(True)\n",
    "plt.show()"
   ]
  },
  {
   "cell_type": "code",
   "execution_count": 36,
   "id": "1c17fc38",
   "metadata": {},
   "outputs": [
    {
     "name": "stdout",
     "output_type": "stream",
     "text": [
      "   Percentage of Labeled Data  Train Accuracy\n",
      "0                         0.1        0.885417\n",
      "1                         0.2        0.929167\n",
      "2                         0.5        0.979861\n"
     ]
    }
   ],
   "source": [
    "# Define the percentage of labeled data and train accuracies\n",
    "data = {\n",
    "    'Percentage of Labeled Data': percentages,\n",
    "    'Train Accuracy': train_accuracies\n",
    "}\n",
    "\n",
    "# Create a DataFrame from the data\n",
    "summary_df = pd.DataFrame(data)\n",
    "\n",
    "# Display the summary table\n",
    "print(summary_df)"
   ]
  },
  {
   "cell_type": "markdown",
   "id": "7c5db950",
   "metadata": {},
   "source": [
    "The table provides interesting understandings into the relationship between size of the labeled train data and performance of the model. It looks to be that including more labeled data leads to a better performance, since more information can be utilized. We do need to be careful, as using more labeled data could lead to overfitting, and the model may not perform as well on unseen data. The benefit of a model like logistic regression is that it is data efficient and less prone to overfitting. It is a simpler model and works well with high-dimensional data. Even then, unsupervised learning is often more data efficient since it does not rely on labeled data. Unsupervised learning is also usually less prone to overfitting for the same reason. "
   ]
  },
  {
   "cell_type": "markdown",
   "id": "5f429b5e",
   "metadata": {},
   "source": [
    "## Conclusion:\n",
    "\n",
    "This mini project provided the opportunity to utilize both unsupervised and supervised learning to categorize BBC news articles. We performed Exploratory Data Analysis, built and trained multiple models, discussed the results, and compared the strengths and weaknesses. There are benefits to both approaches and would depend on each specific case. Unsupervised learning can be more efficient and less prone to overfitting, but supervised learning has the benefit of incorporating labeled data to the training of a model. "
   ]
  },
  {
   "cell_type": "markdown",
   "id": "c3bed3cc",
   "metadata": {},
   "source": [
    "### Citations: \n",
    "\n",
    "Bijoy Bose. (2019). BBC News Classification. Kaggle. https://kaggle.com/competitions/learn-ai-bbc\n",
    "\n",
    "Bird, S., Loper, E., & Klein, E. (2009). *Natural Language Processing with Python.* O’Reilly Media Inc.\n",
    "\n",
    "Rajaraman, A., & Ullman, J. D. (2011). Data mining. In *Cambridge University Press eBooks* (pp. 1–17). https://doi.org/10.1017/cbo9781139058452.002"
   ]
  },
  {
   "cell_type": "code",
   "execution_count": null,
   "id": "753dbc77",
   "metadata": {},
   "outputs": [],
   "source": []
  }
 ],
 "metadata": {
  "kernelspec": {
   "display_name": "Python 3 (ipykernel)",
   "language": "python",
   "name": "python3"
  },
  "language_info": {
   "codemirror_mode": {
    "name": "ipython",
    "version": 3
   },
   "file_extension": ".py",
   "mimetype": "text/x-python",
   "name": "python",
   "nbconvert_exporter": "python",
   "pygments_lexer": "ipython3",
   "version": "3.9.12"
  }
 },
 "nbformat": 4,
 "nbformat_minor": 5
}
